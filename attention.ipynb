{
 "cells": [
  {
   "cell_type": "code",
   "execution_count": 1,
   "id": "d75bec18",
   "metadata": {
    "_cell_guid": "b1076dfc-b9ad-4769-8c92-a6c4dae69d19",
    "_uuid": "8f2839f25d086af736a60e9eeb907d3b93b6e0e5",
    "execution": {
     "iopub.execute_input": "2023-04-15T17:35:23.863841Z",
     "iopub.status.busy": "2023-04-15T17:35:23.863360Z",
     "iopub.status.idle": "2023-04-15T17:35:23.882666Z",
     "shell.execute_reply": "2023-04-15T17:35:23.881649Z"
    },
    "papermill": {
     "duration": 0.033773,
     "end_time": "2023-04-15T17:35:23.884851",
     "exception": false,
     "start_time": "2023-04-15T17:35:23.851078",
     "status": "completed"
    },
    "tags": []
   },
   "outputs": [
    {
     "name": "stdout",
     "output_type": "stream",
     "text": [
      "/kaggle/input/hindienglish-corpora/Hindi_English_Truncated_Corpus.csv\n"
     ]
    }
   ],
   "source": [
    "# This Python 3 environment comes with many helpful analytics libraries installed\n",
    "# It is defined by the kaggle/python Docker image: https://github.com/kaggle/docker-python\n",
    "# For example, here's several helpful packages to load\n",
    "\n",
    "import numpy as np # linear algebra\n",
    "import pandas as pd # data processing, CSV file I/O (e.g. pd.read_csv)\n",
    "\n",
    "# Input data files are available in the read-only \"../input/\" directory\n",
    "# For example, running this (by clicking run or pressing Shift+Enter) will list all files under the input directory\n",
    "\n",
    "import os\n",
    "for dirname, _, filenames in os.walk('/kaggle/input'):\n",
    "    for filename in filenames:\n",
    "        print(os.path.join(dirname, filename))\n",
    "\n",
    "# You can write up to 20GB to the current directory (/kaggle/working/) that gets preserved as output when you create a version using \"Save & Run All\" \n",
    "# You can also write temporary files to /kaggle/temp/, but they won't be saved outside of the current session"
   ]
  },
  {
   "cell_type": "markdown",
   "id": "da20defe",
   "metadata": {
    "papermill": {
     "duration": 0.008941,
     "end_time": "2023-04-15T17:35:23.903574",
     "exception": false,
     "start_time": "2023-04-15T17:35:23.894633",
     "status": "completed"
    },
    "tags": []
   },
   "source": [
    "# 1 Import packages"
   ]
  },
  {
   "cell_type": "code",
   "execution_count": 2,
   "id": "451f5ed5",
   "metadata": {
    "execution": {
     "iopub.execute_input": "2023-04-15T17:35:23.924336Z",
     "iopub.status.busy": "2023-04-15T17:35:23.923296Z",
     "iopub.status.idle": "2023-04-15T17:35:31.802219Z",
     "shell.execute_reply": "2023-04-15T17:35:31.801135Z"
    },
    "papermill": {
     "duration": 7.892024,
     "end_time": "2023-04-15T17:35:31.804903",
     "exception": false,
     "start_time": "2023-04-15T17:35:23.912879",
     "status": "completed"
    },
    "tags": []
   },
   "outputs": [],
   "source": [
    "from __future__ import absolute_import, division, print_function, unicode_literals\n",
    "\n",
    "try:\n",
    "    # %tensorflow_version only exists in Colab.\n",
    "    %tensorflow_version 2.x\n",
    "except Exception:\n",
    "    pass\n",
    "import tensorflow as tf\n",
    "\n",
    "import matplotlib.pyplot as plt\n",
    "import matplotlib.ticker as ticker\n",
    "from sklearn.model_selection import train_test_split\n",
    "import pandas as pd\n",
    "import unicodedata\n",
    "import re\n",
    "import numpy as np\n",
    "import os\n",
    "import io\n",
    "import time\n",
    "from string import digits\n",
    "from tensorflow.keras import layers\n"
   ]
  },
  {
   "cell_type": "markdown",
   "id": "6beb8985",
   "metadata": {
    "papermill": {
     "duration": 0.008947,
     "end_time": "2023-04-15T17:35:31.824555",
     "exception": false,
     "start_time": "2023-04-15T17:35:31.815608",
     "status": "completed"
    },
    "tags": []
   },
   "source": [
    "# 2 reading file "
   ]
  },
  {
   "cell_type": "code",
   "execution_count": 3,
   "id": "1b93df37",
   "metadata": {
    "execution": {
     "iopub.execute_input": "2023-04-15T17:35:31.845126Z",
     "iopub.status.busy": "2023-04-15T17:35:31.844044Z",
     "iopub.status.idle": "2023-04-15T17:35:33.095147Z",
     "shell.execute_reply": "2023-04-15T17:35:33.094080Z"
    },
    "papermill": {
     "duration": 1.263541,
     "end_time": "2023-04-15T17:35:33.097419",
     "exception": false,
     "start_time": "2023-04-15T17:35:31.833878",
     "status": "completed"
    },
    "tags": []
   },
   "outputs": [
    {
     "data": {
      "text/html": [
       "<div>\n",
       "<style scoped>\n",
       "    .dataframe tbody tr th:only-of-type {\n",
       "        vertical-align: middle;\n",
       "    }\n",
       "\n",
       "    .dataframe tbody tr th {\n",
       "        vertical-align: top;\n",
       "    }\n",
       "\n",
       "    .dataframe thead th {\n",
       "        text-align: right;\n",
       "    }\n",
       "</style>\n",
       "<table border=\"1\" class=\"dataframe\">\n",
       "  <thead>\n",
       "    <tr style=\"text-align: right;\">\n",
       "      <th></th>\n",
       "      <th>source</th>\n",
       "      <th>english_sentence</th>\n",
       "      <th>hindi_sentence</th>\n",
       "    </tr>\n",
       "  </thead>\n",
       "  <tbody>\n",
       "    <tr>\n",
       "      <th>113572</th>\n",
       "      <td>tides</td>\n",
       "      <td>The period 1928-1929 was significant in Indian...</td>\n",
       "      <td>सन् 1928-1929 का दौर भारतीय इतिहास में अत्यंत ...</td>\n",
       "    </tr>\n",
       "    <tr>\n",
       "      <th>63857</th>\n",
       "      <td>tides</td>\n",
       "      <td>It was prepared by Roy and released for public...</td>\n",
       "      <td>इसे राय ने तैयार किया था और इस अन्य लोगों द्वा...</td>\n",
       "    </tr>\n",
       "    <tr>\n",
       "      <th>96421</th>\n",
       "      <td>tides</td>\n",
       "      <td>The 1963 Act similarly provided for a Hindi tr...</td>\n",
       "      <td>1963 के अधिनियमों में यह भी कहा गया है कि कतिप...</td>\n",
       "    </tr>\n",
       "    <tr>\n",
       "      <th>36256</th>\n",
       "      <td>indic2012</td>\n",
       "      <td>External links.</td>\n",
       "      <td>बाहरी कड़ियाँ</td>\n",
       "    </tr>\n",
       "    <tr>\n",
       "      <th>2708</th>\n",
       "      <td>tides</td>\n",
       "      <td>The fortuitous bestowing of Man Fridays is she...</td>\n",
       "      <td>अब यह तो संयोग की बात है कि इस फैसले का फायदा ...</td>\n",
       "    </tr>\n",
       "  </tbody>\n",
       "</table>\n",
       "</div>"
      ],
      "text/plain": [
       "           source                                   english_sentence  \\\n",
       "113572      tides  The period 1928-1929 was significant in Indian...   \n",
       "63857       tides  It was prepared by Roy and released for public...   \n",
       "96421       tides  The 1963 Act similarly provided for a Hindi tr...   \n",
       "36256   indic2012                                    External links.   \n",
       "2708        tides  The fortuitous bestowing of Man Fridays is she...   \n",
       "\n",
       "                                           hindi_sentence  \n",
       "113572  सन् 1928-1929 का दौर भारतीय इतिहास में अत्यंत ...  \n",
       "63857   इसे राय ने तैयार किया था और इस अन्य लोगों द्वा...  \n",
       "96421   1963 के अधिनियमों में यह भी कहा गया है कि कतिप...  \n",
       "36256                                       बाहरी कड़ियाँ  \n",
       "2708    अब यह तो संयोग की बात है कि इस फैसले का फायदा ...  "
      ]
     },
     "execution_count": 3,
     "metadata": {},
     "output_type": "execute_result"
    }
   ],
   "source": [
    "data_path=\"/kaggle/input/hindienglish-corpora/Hindi_English_Truncated_Corpus.csv\"\n",
    "lines_raw= pd.read_table(data_path,encoding='utf-8',sep=\",\")\n",
    "lines_raw.sample(5)"
   ]
  },
  {
   "cell_type": "code",
   "execution_count": 4,
   "id": "5ebd9007",
   "metadata": {
    "execution": {
     "iopub.execute_input": "2023-04-15T17:35:33.118558Z",
     "iopub.status.busy": "2023-04-15T17:35:33.118231Z",
     "iopub.status.idle": "2023-04-15T17:35:33.151396Z",
     "shell.execute_reply": "2023-04-15T17:35:33.150361Z"
    },
    "papermill": {
     "duration": 0.046039,
     "end_time": "2023-04-15T17:35:33.153550",
     "exception": false,
     "start_time": "2023-04-15T17:35:33.107511",
     "status": "completed"
    },
    "tags": []
   },
   "outputs": [
    {
     "data": {
      "text/html": [
       "<div>\n",
       "<style scoped>\n",
       "    .dataframe tbody tr th:only-of-type {\n",
       "        vertical-align: middle;\n",
       "    }\n",
       "\n",
       "    .dataframe tbody tr th {\n",
       "        vertical-align: top;\n",
       "    }\n",
       "\n",
       "    .dataframe thead th {\n",
       "        text-align: right;\n",
       "    }\n",
       "</style>\n",
       "<table border=\"1\" class=\"dataframe\">\n",
       "  <thead>\n",
       "    <tr style=\"text-align: right;\">\n",
       "      <th></th>\n",
       "      <th>source</th>\n",
       "      <th>english_sentence</th>\n",
       "      <th>hindi_sentence</th>\n",
       "    </tr>\n",
       "  </thead>\n",
       "  <tbody>\n",
       "    <tr>\n",
       "      <th>0</th>\n",
       "      <td>ted</td>\n",
       "      <td>politicians do not have permission to do what ...</td>\n",
       "      <td>राजनीतिज्ञों के पास जो कार्य करना चाहिए, वह कर...</td>\n",
       "    </tr>\n",
       "    <tr>\n",
       "      <th>1</th>\n",
       "      <td>ted</td>\n",
       "      <td>I'd like to tell you about one such child,</td>\n",
       "      <td>मई आपको ऐसे ही एक बच्चे के बारे में बताना चाहू...</td>\n",
       "    </tr>\n",
       "    <tr>\n",
       "      <th>3</th>\n",
       "      <td>ted</td>\n",
       "      <td>what we really mean is that they're bad at not...</td>\n",
       "      <td>हम ये नहीं कहना चाहते कि वो ध्यान नहीं दे पाते</td>\n",
       "    </tr>\n",
       "    <tr>\n",
       "      <th>7</th>\n",
       "      <td>ted</td>\n",
       "      <td>And who are we to say, even, that they are wrong</td>\n",
       "      <td>और हम होते कौन हैं यह कहने भी वाले कि वे गलत हैं</td>\n",
       "    </tr>\n",
       "    <tr>\n",
       "      <th>13</th>\n",
       "      <td>ted</td>\n",
       "      <td>So there is some sort of justice</td>\n",
       "      <td>तो वहाँ न्याय है</td>\n",
       "    </tr>\n",
       "    <tr>\n",
       "      <th>...</th>\n",
       "      <td>...</td>\n",
       "      <td>...</td>\n",
       "      <td>...</td>\n",
       "    </tr>\n",
       "    <tr>\n",
       "      <th>127595</th>\n",
       "      <td>ted</td>\n",
       "      <td>is if we want that to become our reality -</td>\n",
       "      <td>अगर हम चाहते हैं कि यह वास्तविकता बने -</td>\n",
       "    </tr>\n",
       "    <tr>\n",
       "      <th>127597</th>\n",
       "      <td>ted</td>\n",
       "      <td>Africa has not done bad.</td>\n",
       "      <td>अफ़्रीका ने कुछ गलती नहीं की है।</td>\n",
       "    </tr>\n",
       "    <tr>\n",
       "      <th>127598</th>\n",
       "      <td>ted</td>\n",
       "      <td>Thank you.</td>\n",
       "      <td>धन्यवाद |</td>\n",
       "    </tr>\n",
       "    <tr>\n",
       "      <th>127603</th>\n",
       "      <td>ted</td>\n",
       "      <td>and put it in our cheeks.</td>\n",
       "      <td>और अपने गालों में डाल लेते हैं।</td>\n",
       "    </tr>\n",
       "    <tr>\n",
       "      <th>127606</th>\n",
       "      <td>ted</td>\n",
       "      <td>They've just won four government contracts to ...</td>\n",
       "      <td>हाल ही में उन्हें सरकारी ठेका मिला है करीब सौ ...</td>\n",
       "    </tr>\n",
       "  </tbody>\n",
       "</table>\n",
       "<p>39881 rows × 3 columns</p>\n",
       "</div>"
      ],
      "text/plain": [
       "       source                                   english_sentence  \\\n",
       "0         ted  politicians do not have permission to do what ...   \n",
       "1         ted         I'd like to tell you about one such child,   \n",
       "3         ted  what we really mean is that they're bad at not...   \n",
       "7         ted   And who are we to say, even, that they are wrong   \n",
       "13        ted                   So there is some sort of justice   \n",
       "...       ...                                                ...   \n",
       "127595    ted         is if we want that to become our reality -   \n",
       "127597    ted                           Africa has not done bad.   \n",
       "127598    ted                                         Thank you.   \n",
       "127603    ted                          and put it in our cheeks.   \n",
       "127606    ted  They've just won four government contracts to ...   \n",
       "\n",
       "                                           hindi_sentence  \n",
       "0       राजनीतिज्ञों के पास जो कार्य करना चाहिए, वह कर...  \n",
       "1       मई आपको ऐसे ही एक बच्चे के बारे में बताना चाहू...  \n",
       "3          हम ये नहीं कहना चाहते कि वो ध्यान नहीं दे पाते  \n",
       "7        और हम होते कौन हैं यह कहने भी वाले कि वे गलत हैं  \n",
       "13                                       तो वहाँ न्याय है  \n",
       "...                                                   ...  \n",
       "127595            अगर हम चाहते हैं कि यह वास्तविकता बने -  \n",
       "127597                   अफ़्रीका ने कुछ गलती नहीं की है।  \n",
       "127598                                          धन्यवाद |  \n",
       "127603                    और अपने गालों में डाल लेते हैं।  \n",
       "127606  हाल ही में उन्हें सरकारी ठेका मिला है करीब सौ ...  \n",
       "\n",
       "[39881 rows x 3 columns]"
      ]
     },
     "execution_count": 4,
     "metadata": {},
     "output_type": "execute_result"
    }
   ],
   "source": [
    "lines_raw=lines_raw[lines_raw['source'].isin(['ted'])]\n",
    "lines_raw"
   ]
  },
  {
   "cell_type": "markdown",
   "id": "26aba54c",
   "metadata": {
    "papermill": {
     "duration": 0.009467,
     "end_time": "2023-04-15T17:35:33.172879",
     "exception": false,
     "start_time": "2023-04-15T17:35:33.163412",
     "status": "completed"
    },
    "tags": []
   },
   "source": [
    "## 3 pre-processing"
   ]
  },
  {
   "cell_type": "code",
   "execution_count": 5,
   "id": "af6c1b7d",
   "metadata": {
    "execution": {
     "iopub.execute_input": "2023-04-15T17:35:33.194351Z",
     "iopub.status.busy": "2023-04-15T17:35:33.193335Z",
     "iopub.status.idle": "2023-04-15T17:35:33.198745Z",
     "shell.execute_reply": "2023-04-15T17:35:33.197844Z"
    },
    "papermill": {
     "duration": 0.018587,
     "end_time": "2023-04-15T17:35:33.200993",
     "exception": false,
     "start_time": "2023-04-15T17:35:33.182406",
     "status": "completed"
    },
    "tags": []
   },
   "outputs": [],
   "source": [
    "train_input=lines_raw[\"english_sentence\"]\n",
    "target_input=lines_raw[\"hindi_sentence\"]"
   ]
  },
  {
   "cell_type": "code",
   "execution_count": 6,
   "id": "19dc7e27",
   "metadata": {
    "execution": {
     "iopub.execute_input": "2023-04-15T17:35:33.221810Z",
     "iopub.status.busy": "2023-04-15T17:35:33.221501Z",
     "iopub.status.idle": "2023-04-15T17:35:33.229144Z",
     "shell.execute_reply": "2023-04-15T17:35:33.228077Z"
    },
    "papermill": {
     "duration": 0.020466,
     "end_time": "2023-04-15T17:35:33.231407",
     "exception": false,
     "start_time": "2023-04-15T17:35:33.210941",
     "status": "completed"
    },
    "tags": []
   },
   "outputs": [],
   "source": [
    "import string\n",
    "from string import digits\n",
    "\n",
    "def preprocess_sentence(s):\n",
    "    s=s.apply(lambda x: x.lower())  ##lower case\n",
    "    s=s.apply(lambda x: re.sub(\"'\", '', x)) ##remove quote\n",
    "    s=s.apply(lambda x: ''.join(ch for ch in x if ch not in set(string.punctuation)))  ## remove puncuation\n",
    "    s=s.apply(lambda x: x.translate(str.maketrans('', '', digits)))\n",
    "    s=s.apply(lambda x: x.strip())\n",
    "    s=s.apply(lambda x: re.sub(\" +\", \" \", x))\n",
    "    try:\n",
    "        s=s.apply(lambda x: re.sub(\"[२३०८१५७९४६]\", \"\", x))\n",
    "    except:\n",
    "        pass\n",
    "    return s"
   ]
  },
  {
   "cell_type": "markdown",
   "id": "0051292b",
   "metadata": {
    "papermill": {
     "duration": 0.009303,
     "end_time": "2023-04-15T17:35:33.250197",
     "exception": false,
     "start_time": "2023-04-15T17:35:33.240894",
     "status": "completed"
    },
    "tags": []
   },
   "source": [
    "**before preprocessing**"
   ]
  },
  {
   "cell_type": "code",
   "execution_count": 7,
   "id": "20daf0fa",
   "metadata": {
    "execution": {
     "iopub.execute_input": "2023-04-15T17:35:33.271211Z",
     "iopub.status.busy": "2023-04-15T17:35:33.270281Z",
     "iopub.status.idle": "2023-04-15T17:35:33.275836Z",
     "shell.execute_reply": "2023-04-15T17:35:33.274881Z"
    },
    "papermill": {
     "duration": 0.018349,
     "end_time": "2023-04-15T17:35:33.277995",
     "exception": false,
     "start_time": "2023-04-15T17:35:33.259646",
     "status": "completed"
    },
    "tags": []
   },
   "outputs": [],
   "source": [
    "def print_data(data):\n",
    "    for x in range(10):\n",
    "        print(x+1, data.iloc[x] )"
   ]
  },
  {
   "cell_type": "code",
   "execution_count": 8,
   "id": "2e5eca52",
   "metadata": {
    "execution": {
     "iopub.execute_input": "2023-04-15T17:35:33.298461Z",
     "iopub.status.busy": "2023-04-15T17:35:33.297988Z",
     "iopub.status.idle": "2023-04-15T17:35:33.303436Z",
     "shell.execute_reply": "2023-04-15T17:35:33.302432Z"
    },
    "papermill": {
     "duration": 0.018631,
     "end_time": "2023-04-15T17:35:33.306104",
     "exception": false,
     "start_time": "2023-04-15T17:35:33.287473",
     "status": "completed"
    },
    "tags": []
   },
   "outputs": [
    {
     "name": "stdout",
     "output_type": "stream",
     "text": [
      "1 politicians do not have permission to do what needs to be done.\n",
      "2 I'd like to tell you about one such child,\n",
      "3 what we really mean is that they're bad at not paying attention.\n",
      "4 And who are we to say, even, that they are wrong\n",
      "5 So there is some sort of justice\n",
      "6 This changed slowly\n",
      "7 were being produced.\n",
      "8 And you can see, this LED is going to glow.\n",
      "9 to turn on the lights or to bring him a glass of water,\n",
      "10 Can you imagine saying that?\n"
     ]
    }
   ],
   "source": [
    "print_data(train_input )"
   ]
  },
  {
   "cell_type": "code",
   "execution_count": 9,
   "id": "e1d46e14",
   "metadata": {
    "execution": {
     "iopub.execute_input": "2023-04-15T17:35:33.326791Z",
     "iopub.status.busy": "2023-04-15T17:35:33.326502Z",
     "iopub.status.idle": "2023-04-15T17:35:33.331771Z",
     "shell.execute_reply": "2023-04-15T17:35:33.330770Z"
    },
    "papermill": {
     "duration": 0.018259,
     "end_time": "2023-04-15T17:35:33.334198",
     "exception": false,
     "start_time": "2023-04-15T17:35:33.315939",
     "status": "completed"
    },
    "tags": []
   },
   "outputs": [
    {
     "name": "stdout",
     "output_type": "stream",
     "text": [
      "1 राजनीतिज्ञों के पास जो कार्य करना चाहिए, वह करने कि अनुमति नहीं है .\n",
      "2 मई आपको ऐसे ही एक बच्चे के बारे में बताना चाहूंगी,\n",
      "3 हम ये नहीं कहना चाहते कि वो ध्यान नहीं दे पाते\n",
      "4 और हम होते कौन हैं यह कहने भी वाले कि वे गलत हैं\n",
      "5 तो वहाँ न्याय है\n",
      "6 धीरे धीरे ये सब बदला\n",
      "7 उत्पन्न नहीं कि जाती थी.\n",
      "8 और जैसा आप देख रहे है, ये एल.ई.डी. जल उठेगी।\n",
      "9 लाईट जलाने के लिए या उनके लिए पानी लाने के लिए,\n",
      "10 क्या आप ये कल्पना कर सकते है\n"
     ]
    }
   ],
   "source": [
    "print_data(target_input)"
   ]
  },
  {
   "cell_type": "markdown",
   "id": "49995ee9",
   "metadata": {
    "papermill": {
     "duration": 0.009425,
     "end_time": "2023-04-15T17:35:33.353245",
     "exception": false,
     "start_time": "2023-04-15T17:35:33.343820",
     "status": "completed"
    },
    "tags": []
   },
   "source": [
    "**after preprocessing**"
   ]
  },
  {
   "cell_type": "code",
   "execution_count": 10,
   "id": "e8a06357",
   "metadata": {
    "execution": {
     "iopub.execute_input": "2023-04-15T17:35:33.374388Z",
     "iopub.status.busy": "2023-04-15T17:35:33.373491Z",
     "iopub.status.idle": "2023-04-15T17:35:35.486935Z",
     "shell.execute_reply": "2023-04-15T17:35:35.484741Z"
    },
    "papermill": {
     "duration": 2.126431,
     "end_time": "2023-04-15T17:35:35.489257",
     "exception": false,
     "start_time": "2023-04-15T17:35:33.362826",
     "status": "completed"
    },
    "tags": []
   },
   "outputs": [
    {
     "name": "stdout",
     "output_type": "stream",
     "text": [
      "1 politicians do not have permission to do what needs to be done\n",
      "2 id like to tell you about one such child\n",
      "3 what we really mean is that theyre bad at not paying attention\n",
      "4 and who are we to say even that they are wrong\n",
      "5 so there is some sort of justice\n",
      "6 this changed slowly\n",
      "7 were being produced\n",
      "8 and you can see this led is going to glow\n",
      "9 to turn on the lights or to bring him a glass of water\n",
      "10 can you imagine saying that\n"
     ]
    }
   ],
   "source": [
    "train_input=preprocess_sentence(train_input)\n",
    "print_data(train_input )"
   ]
  },
  {
   "cell_type": "code",
   "execution_count": 11,
   "id": "5f4d60a1",
   "metadata": {
    "execution": {
     "iopub.execute_input": "2023-04-15T17:35:35.511566Z",
     "iopub.status.busy": "2023-04-15T17:35:35.510549Z",
     "iopub.status.idle": "2023-04-15T17:35:37.658309Z",
     "shell.execute_reply": "2023-04-15T17:35:37.657011Z"
    },
    "papermill": {
     "duration": 2.162244,
     "end_time": "2023-04-15T17:35:37.661778",
     "exception": false,
     "start_time": "2023-04-15T17:35:35.499534",
     "status": "completed"
    },
    "tags": []
   },
   "outputs": [
    {
     "name": "stdout",
     "output_type": "stream",
     "text": [
      "1 राजनीतिज्ञों के पास जो कार्य करना चाहिए वह करने कि अनुमति नहीं है\n",
      "2 मई आपको ऐसे ही एक बच्चे के बारे में बताना चाहूंगी\n",
      "3 हम ये नहीं कहना चाहते कि वो ध्यान नहीं दे पाते\n",
      "4 और हम होते कौन हैं यह कहने भी वाले कि वे गलत हैं\n",
      "5 तो वहाँ न्याय है\n",
      "6 धीरे धीरे ये सब बदला\n",
      "7 उत्पन्न नहीं कि जाती थी\n",
      "8 और जैसा आप देख रहे है ये एलईडी जल उठेगी।\n",
      "9 लाईट जलाने के लिए या उनके लिए पानी लाने के लिए\n",
      "10 क्या आप ये कल्पना कर सकते है\n"
     ]
    }
   ],
   "source": [
    "target_input=preprocess_sentence(target_input)\n",
    "print_data(target_input)"
   ]
  },
  {
   "cell_type": "code",
   "execution_count": null,
   "id": "f7d3d47e",
   "metadata": {
    "papermill": {
     "duration": 0.01058,
     "end_time": "2023-04-15T17:35:37.682988",
     "exception": false,
     "start_time": "2023-04-15T17:35:37.672408",
     "status": "completed"
    },
    "tags": []
   },
   "outputs": [],
   "source": []
  },
  {
   "cell_type": "markdown",
   "id": "efed42b7",
   "metadata": {
    "papermill": {
     "duration": 0.009649,
     "end_time": "2023-04-15T17:35:37.702460",
     "exception": false,
     "start_time": "2023-04-15T17:35:37.692811",
     "status": "completed"
    },
    "tags": []
   },
   "source": [
    "**Add \"sos, eos\"** to target senteces"
   ]
  },
  {
   "cell_type": "code",
   "execution_count": 12,
   "id": "4ab80bbd",
   "metadata": {
    "execution": {
     "iopub.execute_input": "2023-04-15T17:35:37.724257Z",
     "iopub.status.busy": "2023-04-15T17:35:37.723214Z",
     "iopub.status.idle": "2023-04-15T17:35:37.745689Z",
     "shell.execute_reply": "2023-04-15T17:35:37.744565Z"
    },
    "papermill": {
     "duration": 0.035814,
     "end_time": "2023-04-15T17:35:37.748036",
     "exception": false,
     "start_time": "2023-04-15T17:35:37.712222",
     "status": "completed"
    },
    "tags": []
   },
   "outputs": [
    {
     "name": "stdout",
     "output_type": "stream",
     "text": [
      "1 <sos> राजनीतिज्ञों के पास जो कार्य करना चाहिए वह करने कि अनुमति नहीं है <eos>\n",
      "2 <sos> मई आपको ऐसे ही एक बच्चे के बारे में बताना चाहूंगी <eos>\n",
      "3 <sos> हम ये नहीं कहना चाहते कि वो ध्यान नहीं दे पाते <eos>\n",
      "4 <sos> और हम होते कौन हैं यह कहने भी वाले कि वे गलत हैं <eos>\n",
      "5 <sos> तो वहाँ न्याय है <eos>\n",
      "6 <sos> धीरे धीरे ये सब बदला <eos>\n",
      "7 <sos> उत्पन्न नहीं कि जाती थी <eos>\n",
      "8 <sos> और जैसा आप देख रहे है ये एलईडी जल उठेगी। <eos>\n",
      "9 <sos> लाईट जलाने के लिए या उनके लिए पानी लाने के लिए <eos>\n",
      "10 <sos> क्या आप ये कल्पना कर सकते है <eos>\n"
     ]
    }
   ],
   "source": [
    "target_input=target_input.apply(lambda x : '<sos> '+ x+' <eos>')\n",
    "print_data(target_input)"
   ]
  },
  {
   "cell_type": "code",
   "execution_count": null,
   "id": "2ef6784e",
   "metadata": {
    "papermill": {
     "duration": 0.009839,
     "end_time": "2023-04-15T17:35:37.768078",
     "exception": false,
     "start_time": "2023-04-15T17:35:37.758239",
     "status": "completed"
    },
    "tags": []
   },
   "outputs": [],
   "source": []
  },
  {
   "cell_type": "markdown",
   "id": "c16147dc",
   "metadata": {
    "papermill": {
     "duration": 0.009678,
     "end_time": "2023-04-15T17:35:37.787655",
     "exception": false,
     "start_time": "2023-04-15T17:35:37.777977",
     "status": "completed"
    },
    "tags": []
   },
   "source": [
    "**tokenize the sentence and OOV**"
   ]
  },
  {
   "cell_type": "code",
   "execution_count": 13,
   "id": "6ca634b8",
   "metadata": {
    "execution": {
     "iopub.execute_input": "2023-04-15T17:35:37.809727Z",
     "iopub.status.busy": "2023-04-15T17:35:37.808701Z",
     "iopub.status.idle": "2023-04-15T17:35:37.814875Z",
     "shell.execute_reply": "2023-04-15T17:35:37.813754Z"
    },
    "papermill": {
     "duration": 0.019477,
     "end_time": "2023-04-15T17:35:37.817023",
     "exception": false,
     "start_time": "2023-04-15T17:35:37.797546",
     "status": "completed"
    },
    "tags": []
   },
   "outputs": [],
   "source": [
    "def token_data(train_preprocessed_input):\n",
    "    source_tokenizer = tf.keras.preprocessing.text.Tokenizer(oov_token='<unk>')\n",
    "    source_tokenizer.fit_on_texts(train_preprocessed_input)\n",
    "    source_tokenizer.get_config()\n",
    "    train_encoder_inputs = source_tokenizer.texts_to_sequences(train_preprocessed_input)\n",
    "    source_vocab_size = len(source_tokenizer.word_index) + 1\n",
    "    return train_encoder_inputs,source_vocab_size,source_tokenizer\n"
   ]
  },
  {
   "cell_type": "code",
   "execution_count": 14,
   "id": "4ab71f7f",
   "metadata": {
    "execution": {
     "iopub.execute_input": "2023-04-15T17:35:37.838554Z",
     "iopub.status.busy": "2023-04-15T17:35:37.837657Z",
     "iopub.status.idle": "2023-04-15T17:35:38.809371Z",
     "shell.execute_reply": "2023-04-15T17:35:38.808155Z"
    },
    "papermill": {
     "duration": 0.986223,
     "end_time": "2023-04-15T17:35:38.813102",
     "exception": false,
     "start_time": "2023-04-15T17:35:37.826879",
     "status": "completed"
    },
    "tags": []
   },
   "outputs": [
    {
     "name": "stdout",
     "output_type": "stream",
     "text": [
      "source_vocab_size : 17347\n"
     ]
    },
    {
     "data": {
      "text/plain": [
       "[[2888, 37, 30, 17, 5251, 4, 37, 22, 483, 4, 28, 200],\n",
       " [281, 41, 4, 146, 10, 26, 34, 336, 280],\n",
       " [22, 12, 76, 198, 11, 7, 115, 328, 33, 30, 1542, 607],\n",
       " [3, 59, 18, 12, 4, 106, 110, 7, 20, 18, 212],\n",
       " [15, 38, 11, 83, 376, 5, 1179]]"
      ]
     },
     "execution_count": 14,
     "metadata": {},
     "output_type": "execute_result"
    }
   ],
   "source": [
    "train_encoder_inputs,source_vocab_size,source_tokenizer = token_data(train_input)\n",
    "print(\"source_vocab_size :\", source_vocab_size)\n",
    "train_encoder_inputs[:5]"
   ]
  },
  {
   "cell_type": "code",
   "execution_count": 15,
   "id": "67829693",
   "metadata": {
    "_kg_hide-output": false,
    "execution": {
     "iopub.execute_input": "2023-04-15T17:35:38.835048Z",
     "iopub.status.busy": "2023-04-15T17:35:38.834715Z",
     "iopub.status.idle": "2023-04-15T17:35:40.462662Z",
     "shell.execute_reply": "2023-04-15T17:35:40.461578Z"
    },
    "papermill": {
     "duration": 1.641435,
     "end_time": "2023-04-15T17:35:40.464819",
     "exception": false,
     "start_time": "2023-04-15T17:35:38.823384",
     "status": "completed"
    },
    "tags": []
   },
   "outputs": [
    {
     "name": "stdout",
     "output_type": "stream",
     "text": [
      "target_vocab_size : 22287\n"
     ]
    },
    {
     "data": {
      "text/plain": [
       "[[2, 7408, 6, 80, 22, 316, 76, 139, 65, 46, 12, 1805, 16, 4],\n",
       " [2, 1083, 67, 127, 29, 11, 133, 6, 48, 7, 554, 1274],\n",
       " [2, 17, 23, 16, 412, 147, 12, 30, 252, 16, 208, 531],\n",
       " [2, 5, 17, 138, 416, 8, 14, 678, 25, 122, 12, 71, 248, 8],\n",
       " [2, 20, 140, 1522, 4]]"
      ]
     },
     "execution_count": 15,
     "metadata": {},
     "output_type": "execute_result"
    }
   ],
   "source": [
    "def generate_decoder_inputs_targets(target_input):\n",
    "    seqs ,target_vocab_size,target_tokenizer = token_data(target_input)\n",
    "    decoder_inputs = [s[:-1] for s in seqs] # Drop the last token in the sentence.\n",
    "    decoder_targets = [s[1:] for s in seqs] # Drop the first token in the sentence.\n",
    "    return decoder_inputs, decoder_targets,target_vocab_size,target_tokenizer\n",
    "\n",
    "decoder_inputs, decoder_targets,target_vocab_size,target_tokenizer = generate_decoder_inputs_targets(target_input)\n",
    "print(\"target_vocab_size :\", target_vocab_size)\n",
    "decoder_inputs[:5]"
   ]
  },
  {
   "cell_type": "code",
   "execution_count": 16,
   "id": "1afcfbc9",
   "metadata": {
    "execution": {
     "iopub.execute_input": "2023-04-15T17:35:40.489009Z",
     "iopub.status.busy": "2023-04-15T17:35:40.488686Z",
     "iopub.status.idle": "2023-04-15T17:35:40.496219Z",
     "shell.execute_reply": "2023-04-15T17:35:40.495151Z"
    },
    "papermill": {
     "duration": 0.02138,
     "end_time": "2023-04-15T17:35:40.498454",
     "exception": false,
     "start_time": "2023-04-15T17:35:40.477074",
     "status": "completed"
    },
    "tags": []
   },
   "outputs": [
    {
     "data": {
      "text/plain": [
       "[[7408, 6, 80, 22, 316, 76, 139, 65, 46, 12, 1805, 16, 4, 3],\n",
       " [1083, 67, 127, 29, 11, 133, 6, 48, 7, 554, 1274, 3],\n",
       " [17, 23, 16, 412, 147, 12, 30, 252, 16, 208, 531, 3],\n",
       " [5, 17, 138, 416, 8, 14, 678, 25, 122, 12, 71, 248, 8, 3],\n",
       " [20, 140, 1522, 4, 3]]"
      ]
     },
     "execution_count": 16,
     "metadata": {},
     "output_type": "execute_result"
    }
   ],
   "source": [
    "decoder_targets[:5]"
   ]
  },
  {
   "cell_type": "code",
   "execution_count": 17,
   "id": "908ff525",
   "metadata": {
    "execution": {
     "iopub.execute_input": "2023-04-15T17:35:40.521133Z",
     "iopub.status.busy": "2023-04-15T17:35:40.520216Z",
     "iopub.status.idle": "2023-04-15T17:35:40.527117Z",
     "shell.execute_reply": "2023-04-15T17:35:40.525987Z"
    },
    "papermill": {
     "duration": 0.020497,
     "end_time": "2023-04-15T17:35:40.529505",
     "exception": false,
     "start_time": "2023-04-15T17:35:40.509008",
     "status": "completed"
    },
    "tags": []
   },
   "outputs": [
    {
     "data": {
      "text/plain": [
       "2"
      ]
     },
     "execution_count": 17,
     "metadata": {},
     "output_type": "execute_result"
    }
   ],
   "source": [
    "target_tokenizer.word_index[\"sos\"]"
   ]
  },
  {
   "cell_type": "markdown",
   "id": "a5e7625e",
   "metadata": {
    "papermill": {
     "duration": 0.010137,
     "end_time": "2023-04-15T17:35:40.549995",
     "exception": false,
     "start_time": "2023-04-15T17:35:40.539858",
     "status": "completed"
    },
    "tags": []
   },
   "source": [
    "**Padding**"
   ]
  },
  {
   "cell_type": "code",
   "execution_count": 18,
   "id": "df6e8bcf",
   "metadata": {
    "execution": {
     "iopub.execute_input": "2023-04-15T17:35:40.572438Z",
     "iopub.status.busy": "2023-04-15T17:35:40.571538Z",
     "iopub.status.idle": "2023-04-15T17:35:40.581911Z",
     "shell.execute_reply": "2023-04-15T17:35:40.580749Z"
    },
    "papermill": {
     "duration": 0.023774,
     "end_time": "2023-04-15T17:35:40.584029",
     "exception": false,
     "start_time": "2023-04-15T17:35:40.560255",
     "status": "completed"
    },
    "tags": []
   },
   "outputs": [
    {
     "name": "stdout",
     "output_type": "stream",
     "text": [
      "max_encoding_len 21\n",
      "max_decoding_len 31\n"
     ]
    }
   ],
   "source": [
    "max_encoding_len = len(max(train_encoder_inputs, key=len))\n",
    "max_decoding_len = len(max(decoder_inputs, key=len))\n",
    "print(\"max_encoding_len\",max_encoding_len)\n",
    "print(\"max_decoding_len\",max_decoding_len)\n"
   ]
  },
  {
   "cell_type": "code",
   "execution_count": 19,
   "id": "b9cca0f2",
   "metadata": {
    "execution": {
     "iopub.execute_input": "2023-04-15T17:35:40.606070Z",
     "iopub.status.busy": "2023-04-15T17:35:40.605775Z",
     "iopub.status.idle": "2023-04-15T17:35:40.919954Z",
     "shell.execute_reply": "2023-04-15T17:35:40.918909Z"
    },
    "papermill": {
     "duration": 0.328276,
     "end_time": "2023-04-15T17:35:40.922619",
     "exception": false,
     "start_time": "2023-04-15T17:35:40.594343",
     "status": "completed"
    },
    "tags": []
   },
   "outputs": [],
   "source": [
    "from tensorflow.keras.preprocessing.sequence import pad_sequences\n",
    "\n",
    "padded_train_encoder_inputs = pad_sequences(train_encoder_inputs, max_encoding_len, padding='post', truncating='post')\n",
    "padded_train_decoder_inputs = pad_sequences(decoder_inputs, max_decoding_len, padding='post', truncating='post')\n",
    "padded_train_decoder_targets = pad_sequences(decoder_targets, max_decoding_len, padding='post', truncating='post')"
   ]
  },
  {
   "cell_type": "code",
   "execution_count": 20,
   "id": "8dc1ae31",
   "metadata": {
    "execution": {
     "iopub.execute_input": "2023-04-15T17:35:40.946189Z",
     "iopub.status.busy": "2023-04-15T17:35:40.945228Z",
     "iopub.status.idle": "2023-04-15T17:35:40.954681Z",
     "shell.execute_reply": "2023-04-15T17:35:40.953762Z"
    },
    "papermill": {
     "duration": 0.023211,
     "end_time": "2023-04-15T17:35:40.956817",
     "exception": false,
     "start_time": "2023-04-15T17:35:40.933606",
     "status": "completed"
    },
    "tags": []
   },
   "outputs": [
    {
     "data": {
      "text/plain": [
       "array([[2888,   37,   30,   17, 5251,    4,   37,   22,  483,    4,   28,\n",
       "         200,    0,    0,    0,    0,    0,    0,    0,    0,    0],\n",
       "       [ 281,   41,    4,  146,   10,   26,   34,  336,  280,    0,    0,\n",
       "           0,    0,    0,    0,    0,    0,    0,    0,    0,    0]],\n",
       "      dtype=int32)"
      ]
     },
     "execution_count": 20,
     "metadata": {},
     "output_type": "execute_result"
    }
   ],
   "source": [
    "padded_train_encoder_inputs[:2]"
   ]
  },
  {
   "cell_type": "code",
   "execution_count": 21,
   "id": "c2ffb06d",
   "metadata": {
    "execution": {
     "iopub.execute_input": "2023-04-15T17:35:40.979054Z",
     "iopub.status.busy": "2023-04-15T17:35:40.978747Z",
     "iopub.status.idle": "2023-04-15T17:35:40.985313Z",
     "shell.execute_reply": "2023-04-15T17:35:40.984333Z"
    },
    "papermill": {
     "duration": 0.020027,
     "end_time": "2023-04-15T17:35:40.987315",
     "exception": false,
     "start_time": "2023-04-15T17:35:40.967288",
     "status": "completed"
    },
    "tags": []
   },
   "outputs": [
    {
     "data": {
      "text/plain": [
       "array([[   2, 7408,    6,   80,   22,  316,   76,  139,   65,   46,   12,\n",
       "        1805,   16,    4,    0,    0,    0,    0,    0,    0,    0,    0,\n",
       "           0,    0,    0,    0,    0,    0,    0,    0,    0],\n",
       "       [   2, 1083,   67,  127,   29,   11,  133,    6,   48,    7,  554,\n",
       "        1274,    0,    0,    0,    0,    0,    0,    0,    0,    0,    0,\n",
       "           0,    0,    0,    0,    0,    0,    0,    0,    0],\n",
       "       [   2,   17,   23,   16,  412,  147,   12,   30,  252,   16,  208,\n",
       "         531,    0,    0,    0,    0,    0,    0,    0,    0,    0,    0,\n",
       "           0,    0,    0,    0,    0,    0,    0,    0,    0]],\n",
       "      dtype=int32)"
      ]
     },
     "execution_count": 21,
     "metadata": {},
     "output_type": "execute_result"
    }
   ],
   "source": [
    "padded_train_decoder_inputs[:3]"
   ]
  },
  {
   "cell_type": "code",
   "execution_count": null,
   "id": "200e7b8e",
   "metadata": {
    "papermill": {
     "duration": 0.012478,
     "end_time": "2023-04-15T17:35:41.010766",
     "exception": false,
     "start_time": "2023-04-15T17:35:40.998288",
     "status": "completed"
    },
    "tags": []
   },
   "outputs": [],
   "source": []
  },
  {
   "cell_type": "markdown",
   "id": "2e5026a4",
   "metadata": {
    "papermill": {
     "duration": 0.010577,
     "end_time": "2023-04-15T17:35:41.038191",
     "exception": false,
     "start_time": "2023-04-15T17:35:41.027614",
     "status": "completed"
    },
    "tags": []
   },
   "source": [
    "# modelling"
   ]
  },
  {
   "cell_type": "code",
   "execution_count": null,
   "id": "11ceb695",
   "metadata": {
    "papermill": {
     "duration": 0.010448,
     "end_time": "2023-04-15T17:35:41.059141",
     "exception": false,
     "start_time": "2023-04-15T17:35:41.048693",
     "status": "completed"
    },
    "tags": []
   },
   "outputs": [],
   "source": []
  },
  {
   "cell_type": "code",
   "execution_count": 22,
   "id": "c70a3156",
   "metadata": {
    "execution": {
     "iopub.execute_input": "2023-04-15T17:35:41.082046Z",
     "iopub.status.busy": "2023-04-15T17:35:41.081685Z",
     "iopub.status.idle": "2023-04-15T17:35:41.087209Z",
     "shell.execute_reply": "2023-04-15T17:35:41.086156Z"
    },
    "papermill": {
     "duration": 0.019846,
     "end_time": "2023-04-15T17:35:41.089800",
     "exception": false,
     "start_time": "2023-04-15T17:35:41.069954",
     "status": "completed"
    },
    "tags": []
   },
   "outputs": [
    {
     "name": "stdout",
     "output_type": "stream",
     "text": [
      "source_vocab_size 17347\n"
     ]
    }
   ],
   "source": [
    "embedding_dim = 128\n",
    "hidden_dim = 256\n",
    "default_dropout=0.2\n",
    "batch_size = 32\n",
    "epochs = 30\n",
    "print(\"source_vocab_size\",source_vocab_size)"
   ]
  },
  {
   "cell_type": "code",
   "execution_count": 23,
   "id": "4223cb2e",
   "metadata": {
    "execution": {
     "iopub.execute_input": "2023-04-15T17:35:41.112904Z",
     "iopub.status.busy": "2023-04-15T17:35:41.112603Z",
     "iopub.status.idle": "2023-04-15T17:35:41.129993Z",
     "shell.execute_reply": "2023-04-15T17:35:41.128924Z"
    },
    "papermill": {
     "duration": 0.031711,
     "end_time": "2023-04-15T17:35:41.132121",
     "exception": false,
     "start_time": "2023-04-15T17:35:41.100410",
     "status": "completed"
    },
    "tags": []
   },
   "outputs": [],
   "source": [
    "class Encoder(tf.keras.Model):\n",
    "    def __init__(self, source_vocab_size, embedding_dim, hidden_dim):\n",
    "        super(Encoder, self).__init__()\n",
    "        self.embedding = layers.Embedding(source_vocab_size, \n",
    "                                          embedding_dim,\n",
    "                                          name='encoder_embedding_layer')\n",
    "        self.lstm = layers.LSTM(hidden_dim, \n",
    "                                return_sequences=True, \n",
    "                                return_state=True,\n",
    "                                name='encoder_lstm')\n",
    "    def call(self, input):\n",
    "        embeddings = self.embedding(input)\n",
    "        output_seq, state_h, state_c = self.lstm(embeddings)\n",
    "        return output_seq, state_h, state_c\n",
    "    \n",
    "    \n",
    "    \n",
    "class LuongAttention(tf.keras.Model):\n",
    "    def __init__(self, hidden_dim):\n",
    "        super(LuongAttention, self).__init__()\n",
    "        self.w = layers.Dense(hidden_dim, name='encoder_outputs_dense')\n",
    "    def call(self, inputs):\n",
    "        encoder_output_seq, decoder_output = inputs\n",
    "        z = self.w(encoder_output_seq)\n",
    "        attention_scores = tf.matmul(decoder_output, z, transpose_b=True)\n",
    "        attention_weights = tf.keras.activations.softmax(attention_scores, axis=-1)\n",
    "        context = tf.matmul(attention_weights, encoder_output_seq)\n",
    "        return attention_weights, context\n",
    "    \n",
    "\n",
    "class BahdanauAttention(tf.keras.layers.Layer):\n",
    "    def __init__(self,units):\n",
    "        super(BahdanauAttention,self).__init__()\n",
    "        self.Vector=tf.keras.layers.Dense(1)\n",
    "        self.W1 = tf.keras.layers.Dense(units)\n",
    "        self.W2 = tf.keras.layers.Dense(units)\n",
    "\n",
    "    def call(self,query,value):\n",
    "        query_with_time_axis = tf.expand_dims(query, 1)\n",
    "        score=self.Vector(tf.nn.tanh(self.W1(value) +self.W2(query_with_time_axis )))\n",
    "        attention_weights = tf.nn.softmax(score, axis=1)\n",
    "        context_vector = attention_weights * value\n",
    "        context_vector = tf.reduce_sum(context_vector, axis=1)\n",
    "        return context_vector, attention_weights\n",
    "\n",
    "\n",
    "class Decoder(tf.keras.Model):\n",
    "    def __init__(self, vocab_size, embedding_dim, hidden_dim):\n",
    "        super(Decoder, self).__init__()\n",
    "\n",
    "        self.embedding_layer = layers.Embedding(vocab_size,\n",
    "                                                embedding_dim,\n",
    "                                                name='decoder_embedding_layer')\n",
    "\n",
    "        self.lstm = layers.LSTM(hidden_dim,\n",
    "                                return_sequences=True,\n",
    "                                return_state=True,\n",
    "                                name='decoder_lstm')\n",
    "\n",
    "        self.attention = LuongAttention(hidden_dim)\n",
    "\n",
    "        self.w = tf.keras.layers.Dense(hidden_dim, activation='tanh', name='attended_outputs_dense')\n",
    "\n",
    "        self.dense = layers.Dense(vocab_size, name='decoder_dense')\n",
    "\n",
    "\n",
    "    def call(self, inputs):\n",
    "        decoder_input, encoder_output_seq, lstm_state = inputs\n",
    "        embeddings = self.embedding_layer(decoder_input)\n",
    "\n",
    "        decoder_output, state_h, state_c = self.lstm(embeddings, initial_state=lstm_state)\n",
    "\n",
    "        weights, context = self.attention([encoder_output_seq, decoder_output])\n",
    "\n",
    "        decoder_output_with_attention = self.w(tf.concat(\n",
    "            [tf.squeeze(context, 1), tf.squeeze(decoder_output, 1)], -1))\n",
    "\n",
    "        logits = self.dense(decoder_output_with_attention)\n",
    "\n",
    "        return logits, state_h, state_c, weights\n",
    "    \n",
    "\n",
    "    \n",
    "def loss_func(targets, logits):\n",
    "        ce_loss = tf.keras.losses.SparseCategoricalCrossentropy(from_logits=True)\n",
    "        mask = tf.cast(tf.math.not_equal(targets, 0), tf.float32)\n",
    "        return ce_loss(targets, logits, sample_weight=mask)"
   ]
  },
  {
   "cell_type": "code",
   "execution_count": 24,
   "id": "bf1c4db8",
   "metadata": {
    "execution": {
     "iopub.execute_input": "2023-04-15T17:35:41.155159Z",
     "iopub.status.busy": "2023-04-15T17:35:41.154380Z",
     "iopub.status.idle": "2023-04-15T17:35:41.162696Z",
     "shell.execute_reply": "2023-04-15T17:35:41.161620Z"
    },
    "papermill": {
     "duration": 0.021921,
     "end_time": "2023-04-15T17:35:41.164633",
     "exception": false,
     "start_time": "2023-04-15T17:35:41.142712",
     "status": "completed"
    },
    "tags": []
   },
   "outputs": [],
   "source": [
    "class TranslatorTrainer(tf.keras.Model):\n",
    "    def __init__(self, encoder, decoder):\n",
    "        super(TranslatorTrainer, self).__init__()\n",
    "        self.encoder = encoder\n",
    "        self.decoder = decoder\n",
    "    @tf.function\n",
    "    def train_step(self, inputs):\n",
    "        loss = 0.\n",
    "        encoder_input_seq, decoder_input_seq, decoder_target_seq = inputs\n",
    "        with tf.GradientTape() as tape:\n",
    "            encoder_output_seq, state_h, state_c = self.encoder(encoder_input_seq)\n",
    "            for i in range(decoder_target_seq.shape[1]):\n",
    "                next_decoder_input = tf.expand_dims(decoder_input_seq[:, i], 1)\n",
    "                logits, state_h, state_c, _ = self.decoder(\n",
    "                  [next_decoder_input, encoder_output_seq, (state_h, state_c)])\n",
    "                loss += self.loss(decoder_target_seq[:, i], logits)\n",
    "        variables = encoder.trainable_variables + decoder.trainable_variables\n",
    "        gradients = tape.gradient(loss, variables)\n",
    "        self.optimizer.apply_gradients(zip(gradients, variables))\n",
    "        return {'loss': loss / decoder_target_seq.shape[1]}"
   ]
  },
  {
   "cell_type": "code",
   "execution_count": 25,
   "id": "0b5c6d0e",
   "metadata": {
    "execution": {
     "iopub.execute_input": "2023-04-15T17:35:41.187506Z",
     "iopub.status.busy": "2023-04-15T17:35:41.186607Z",
     "iopub.status.idle": "2023-04-15T17:35:43.897535Z",
     "shell.execute_reply": "2023-04-15T17:35:43.896428Z"
    },
    "papermill": {
     "duration": 2.725269,
     "end_time": "2023-04-15T17:35:43.900527",
     "exception": false,
     "start_time": "2023-04-15T17:35:41.175258",
     "status": "completed"
    },
    "tags": []
   },
   "outputs": [],
   "source": [
    "dataset = tf.data.Dataset.from_tensor_slices((padded_train_encoder_inputs, \n",
    "                                              padded_train_decoder_inputs, \n",
    "                                              padded_train_decoder_targets)).batch(batch_size, drop_remainder=True)"
   ]
  },
  {
   "cell_type": "markdown",
   "id": "546c9eb4",
   "metadata": {
    "papermill": {
     "duration": 0.01678,
     "end_time": "2023-04-15T17:35:43.938508",
     "exception": false,
     "start_time": "2023-04-15T17:35:43.921728",
     "status": "completed"
    },
    "tags": []
   },
   "source": [
    "**training**"
   ]
  },
  {
   "cell_type": "code",
   "execution_count": 26,
   "id": "4676faa8",
   "metadata": {
    "execution": {
     "iopub.execute_input": "2023-04-15T17:35:43.972134Z",
     "iopub.status.busy": "2023-04-15T17:35:43.971657Z",
     "iopub.status.idle": "2023-04-15T17:35:43.977678Z",
     "shell.execute_reply": "2023-04-15T17:35:43.976713Z"
    },
    "papermill": {
     "duration": 0.028655,
     "end_time": "2023-04-15T17:35:43.983378",
     "exception": false,
     "start_time": "2023-04-15T17:35:43.954723",
     "status": "completed"
    },
    "tags": []
   },
   "outputs": [
    {
     "name": "stdout",
     "output_type": "stream",
     "text": [
      "source_vocab_size :  17347\n",
      "embedding_dim     :  128\n",
      "hidden_dim        :  256\n"
     ]
    }
   ],
   "source": [
    "print(\"source_vocab_size : \",source_vocab_size)\n",
    "print(\"embedding_dim     : \", embedding_dim) \n",
    "print(\"hidden_dim        : \", hidden_dim)\n"
   ]
  },
  {
   "cell_type": "code",
   "execution_count": 27,
   "id": "7dce264f",
   "metadata": {
    "execution": {
     "iopub.execute_input": "2023-04-15T17:35:44.019286Z",
     "iopub.status.busy": "2023-04-15T17:35:44.018845Z",
     "iopub.status.idle": "2023-04-15T17:35:44.099484Z",
     "shell.execute_reply": "2023-04-15T17:35:44.098014Z"
    },
    "papermill": {
     "duration": 0.105167,
     "end_time": "2023-04-15T17:35:44.104697",
     "exception": false,
     "start_time": "2023-04-15T17:35:43.999530",
     "status": "completed"
    },
    "tags": []
   },
   "outputs": [],
   "source": [
    "encoder = Encoder(source_vocab_size, embedding_dim, hidden_dim)\n",
    "decoder = Decoder(target_vocab_size, embedding_dim, hidden_dim)\n",
    "optimizer = tf.keras.optimizers.Adam()\n",
    "\n",
    "translator_trainer = TranslatorTrainer(encoder, decoder)\n",
    "translator_trainer.compile(optimizer=optimizer, loss=loss_func)"
   ]
  },
  {
   "cell_type": "code",
   "execution_count": 28,
   "id": "5b42d326",
   "metadata": {
    "execution": {
     "iopub.execute_input": "2023-04-15T17:35:44.140715Z",
     "iopub.status.busy": "2023-04-15T17:35:44.140228Z",
     "iopub.status.idle": "2023-04-15T18:03:19.872232Z",
     "shell.execute_reply": "2023-04-15T18:03:19.871021Z"
    },
    "papermill": {
     "duration": 1655.752004,
     "end_time": "2023-04-15T18:03:19.874659",
     "exception": false,
     "start_time": "2023-04-15T17:35:44.122655",
     "status": "completed"
    },
    "tags": []
   },
   "outputs": [
    {
     "name": "stdout",
     "output_type": "stream",
     "text": [
      "Epoch 1/20\n",
      "1246/1246 [==============================] - 145s 79ms/step - loss: 1.8883\n",
      "Epoch 2/20\n",
      "1246/1246 [==============================] - 78s 63ms/step - loss: 1.5601\n",
      "Epoch 3/20\n",
      "1246/1246 [==============================] - 78s 63ms/step - loss: 1.3890\n",
      "Epoch 4/20\n",
      "1246/1246 [==============================] - 79s 63ms/step - loss: 1.2324\n",
      "Epoch 5/20\n",
      "1246/1246 [==============================] - 79s 63ms/step - loss: 1.0904\n",
      "Epoch 6/20\n",
      "1246/1246 [==============================] - 79s 63ms/step - loss: 0.9641\n",
      "Epoch 7/20\n",
      "1246/1246 [==============================] - 78s 63ms/step - loss: 0.8526\n",
      "Epoch 8/20\n",
      "1246/1246 [==============================] - 79s 64ms/step - loss: 0.7565\n",
      "Epoch 9/20\n",
      "1246/1246 [==============================] - 78s 63ms/step - loss: 0.6731\n",
      "Epoch 10/20\n",
      "1246/1246 [==============================] - 79s 64ms/step - loss: 0.6033\n",
      "Epoch 11/20\n",
      "1246/1246 [==============================] - 79s 63ms/step - loss: 0.5447\n",
      "Epoch 12/20\n",
      "1246/1246 [==============================] - 80s 64ms/step - loss: 0.4936\n",
      "Epoch 13/20\n",
      "1246/1246 [==============================] - 79s 63ms/step - loss: 0.4469\n",
      "Epoch 14/20\n",
      "1246/1246 [==============================] - 80s 64ms/step - loss: 0.4044\n",
      "Epoch 15/20\n",
      "1246/1246 [==============================] - 79s 63ms/step - loss: 0.3667\n",
      "Epoch 16/20\n",
      "1246/1246 [==============================] - 79s 64ms/step - loss: 0.3325\n",
      "Epoch 17/20\n",
      "1246/1246 [==============================] - 79s 63ms/step - loss: 0.3026\n",
      "Epoch 18/20\n",
      "1246/1246 [==============================] - 80s 64ms/step - loss: 0.2770\n",
      "Epoch 19/20\n",
      "1246/1246 [==============================] - 79s 64ms/step - loss: 0.2524\n",
      "Epoch 20/20\n",
      "1246/1246 [==============================] - 80s 64ms/step - loss: 0.2291\n"
     ]
    },
    {
     "data": {
      "text/plain": [
       "<keras.callbacks.History at 0x74a9f46efc10>"
      ]
     },
     "execution_count": 28,
     "metadata": {},
     "output_type": "execute_result"
    }
   ],
   "source": [
    "epochs = 20\n",
    "translator_trainer.fit(dataset, epochs=epochs)"
   ]
  },
  {
   "cell_type": "code",
   "execution_count": null,
   "id": "3c89676e",
   "metadata": {
    "papermill": {
     "duration": 1.471573,
     "end_time": "2023-04-15T18:03:22.778246",
     "exception": false,
     "start_time": "2023-04-15T18:03:21.306673",
     "status": "completed"
    },
    "tags": []
   },
   "outputs": [],
   "source": []
  },
  {
   "cell_type": "markdown",
   "id": "4c6dfe72",
   "metadata": {
    "papermill": {
     "duration": 1.39791,
     "end_time": "2023-04-15T18:03:25.499019",
     "exception": false,
     "start_time": "2023-04-15T18:03:24.101109",
     "status": "completed"
    },
    "tags": []
   },
   "source": [
    "**prediction**"
   ]
  },
  {
   "cell_type": "code",
   "execution_count": 29,
   "id": "6df5f844",
   "metadata": {
    "execution": {
     "iopub.execute_input": "2023-04-15T18:03:28.402763Z",
     "iopub.status.busy": "2023-04-15T18:03:28.402201Z",
     "iopub.status.idle": "2023-04-15T18:03:28.412524Z",
     "shell.execute_reply": "2023-04-15T18:03:28.411445Z"
    },
    "papermill": {
     "duration": 1.410048,
     "end_time": "2023-04-15T18:03:28.415657",
     "exception": false,
     "start_time": "2023-04-15T18:03:27.005609",
     "status": "completed"
    },
    "tags": []
   },
   "outputs": [
    {
     "data": {
      "text/plain": [
       "(10, 2)"
      ]
     },
     "execution_count": 29,
     "metadata": {},
     "output_type": "execute_result"
    }
   ],
   "source": [
    "sentences=(lines_raw.sample(10).iloc[:,1:])\n",
    "sentences.shape"
   ]
  },
  {
   "cell_type": "code",
   "execution_count": 30,
   "id": "36eaa968",
   "metadata": {
    "execution": {
     "iopub.execute_input": "2023-04-15T18:03:31.272053Z",
     "iopub.status.busy": "2023-04-15T18:03:31.271032Z",
     "iopub.status.idle": "2023-04-15T18:03:31.281824Z",
     "shell.execute_reply": "2023-04-15T18:03:31.280785Z"
    },
    "papermill": {
     "duration": 1.484393,
     "end_time": "2023-04-15T18:03:31.283912",
     "exception": false,
     "start_time": "2023-04-15T18:03:29.799519",
     "status": "completed"
    },
    "tags": []
   },
   "outputs": [
    {
     "data": {
      "text/html": [
       "<div>\n",
       "<style scoped>\n",
       "    .dataframe tbody tr th:only-of-type {\n",
       "        vertical-align: middle;\n",
       "    }\n",
       "\n",
       "    .dataframe tbody tr th {\n",
       "        vertical-align: top;\n",
       "    }\n",
       "\n",
       "    .dataframe thead th {\n",
       "        text-align: right;\n",
       "    }\n",
       "</style>\n",
       "<table border=\"1\" class=\"dataframe\">\n",
       "  <thead>\n",
       "    <tr style=\"text-align: right;\">\n",
       "      <th></th>\n",
       "      <th>english_sentence</th>\n",
       "      <th>hindi_sentence</th>\n",
       "    </tr>\n",
       "  </thead>\n",
       "  <tbody>\n",
       "    <tr>\n",
       "      <th>63111</th>\n",
       "      <td>of whether we could evolve or develop a sixth ...</td>\n",
       "      <td>कि क्या हम एक छठी इन्द्री का विकास या आवर्ण कर...</td>\n",
       "    </tr>\n",
       "  </tbody>\n",
       "</table>\n",
       "</div>"
      ],
      "text/plain": [
       "                                        english_sentence  \\\n",
       "63111  of whether we could evolve or develop a sixth ...   \n",
       "\n",
       "                                          hindi_sentence  \n",
       "63111  कि क्या हम एक छठी इन्द्री का विकास या आवर्ण कर...  "
      ]
     },
     "execution_count": 30,
     "metadata": {},
     "output_type": "execute_result"
    }
   ],
   "source": [
    "sentences.iloc[:1,:]"
   ]
  },
  {
   "cell_type": "code",
   "execution_count": 31,
   "id": "1cd61a4e",
   "metadata": {
    "execution": {
     "iopub.execute_input": "2023-04-15T18:03:34.006873Z",
     "iopub.status.busy": "2023-04-15T18:03:34.006499Z",
     "iopub.status.idle": "2023-04-15T18:03:34.016548Z",
     "shell.execute_reply": "2023-04-15T18:03:34.015558Z"
    },
    "papermill": {
     "duration": 1.406806,
     "end_time": "2023-04-15T18:03:34.018621",
     "exception": false,
     "start_time": "2023-04-15T18:03:32.611815",
     "status": "completed"
    },
    "scrolled": true,
    "tags": []
   },
   "outputs": [],
   "source": [
    "\n",
    "def Inference(sentences,source_tokenizer,encoder,target_tokenizer, decoder,max_encoding_len,max_decoding_len):\n",
    "    translations = {'Tokenized Original': [], 'Reference': [], 'Translation': []}\n",
    "    for s in range(sentences.shape[0]):\n",
    "        source1, target = sentences[\"english_sentence\"],sentences[\"hindi_sentence\"]\n",
    "        source2=preprocess_sentence(source1)\n",
    "        source=source2.iloc[s]\n",
    "        input_seq = source_tokenizer.texts_to_sequences([source])\n",
    "        tokenized = source_tokenizer.sequences_to_texts(input_seq)\n",
    "        input_seq = pad_sequences(input_seq, maxlen=max_encoding_len, padding='post')\n",
    "        encoder_output, state_h, state_c  = encoder.predict(input_seq)\n",
    "        current_word = 'sos'\n",
    "        decoded_sentence = []\n",
    "        while len(decoded_sentence) < max_decoding_len:\n",
    "            target_seq = np.zeros((1,1))\n",
    "            target_seq[0, 0] = target_tokenizer.word_index[current_word]\n",
    "            logits, state_h, state_c, _ = decoder.predict([target_seq, encoder_output, (state_h, state_c)])\n",
    "            current_token_index = np.argmax(logits[0])\n",
    "            current_word = target_tokenizer.index_word[current_token_index]\n",
    "            if (current_word == 'eos'):\n",
    "                break\n",
    "            decoded_sentence.append(current_word)                        \n",
    "        translations['Tokenized Original'].append(tokenized[0])\n",
    "        translations['Reference'].append(target.iloc[s])\n",
    "        translations['Translation'].append( ' '.join(decoded_sentence))\n",
    "    return translations\n",
    "   "
   ]
  },
  {
   "cell_type": "code",
   "execution_count": 32,
   "id": "a080197a",
   "metadata": {
    "execution": {
     "iopub.execute_input": "2023-04-15T18:03:36.920464Z",
     "iopub.status.busy": "2023-04-15T18:03:36.919987Z",
     "iopub.status.idle": "2023-04-15T18:03:44.947509Z",
     "shell.execute_reply": "2023-04-15T18:03:44.946557Z"
    },
    "papermill": {
     "duration": 9.542873,
     "end_time": "2023-04-15T18:03:44.949849",
     "exception": false,
     "start_time": "2023-04-15T18:03:35.406976",
     "status": "completed"
    },
    "tags": []
   },
   "outputs": [
    {
     "name": "stdout",
     "output_type": "stream",
     "text": [
      "1/1 [==============================] - 1s 677ms/step\n",
      "1/1 [==============================] - 0s 458ms/step\n",
      "1/1 [==============================] - 0s 22ms/step\n",
      "1/1 [==============================] - 0s 21ms/step\n",
      "1/1 [==============================] - 0s 23ms/step\n",
      "1/1 [==============================] - 0s 22ms/step\n",
      "1/1 [==============================] - 0s 23ms/step\n",
      "1/1 [==============================] - 0s 22ms/step\n",
      "1/1 [==============================] - 0s 21ms/step\n",
      "1/1 [==============================] - 0s 21ms/step\n",
      "1/1 [==============================] - 0s 24ms/step\n",
      "1/1 [==============================] - 0s 21ms/step\n",
      "1/1 [==============================] - 0s 22ms/step\n",
      "1/1 [==============================] - 0s 22ms/step\n",
      "1/1 [==============================] - 0s 20ms/step\n",
      "1/1 [==============================] - 0s 22ms/step\n",
      "1/1 [==============================] - 0s 22ms/step\n",
      "1/1 [==============================] - 0s 21ms/step\n",
      "1/1 [==============================] - 0s 18ms/step\n",
      "1/1 [==============================] - 0s 21ms/step\n",
      "1/1 [==============================] - 0s 22ms/step\n",
      "1/1 [==============================] - 0s 21ms/step\n",
      "1/1 [==============================] - 0s 24ms/step\n",
      "1/1 [==============================] - 0s 24ms/step\n",
      "1/1 [==============================] - 0s 22ms/step\n",
      "1/1 [==============================] - 0s 25ms/step\n",
      "1/1 [==============================] - 0s 27ms/step\n",
      "1/1 [==============================] - 0s 23ms/step\n",
      "1/1 [==============================] - 0s 24ms/step\n",
      "1/1 [==============================] - 0s 23ms/step\n",
      "1/1 [==============================] - 0s 23ms/step\n",
      "1/1 [==============================] - 0s 21ms/step\n",
      "1/1 [==============================] - 0s 22ms/step\n",
      "1/1 [==============================] - 0s 23ms/step\n",
      "1/1 [==============================] - 0s 22ms/step\n",
      "1/1 [==============================] - 0s 23ms/step\n",
      "1/1 [==============================] - 0s 22ms/step\n",
      "1/1 [==============================] - 0s 22ms/step\n",
      "1/1 [==============================] - 0s 22ms/step\n",
      "1/1 [==============================] - 0s 25ms/step\n",
      "1/1 [==============================] - 0s 23ms/step\n",
      "1/1 [==============================] - 0s 22ms/step\n",
      "1/1 [==============================] - 0s 20ms/step\n",
      "1/1 [==============================] - 0s 22ms/step\n",
      "1/1 [==============================] - 0s 21ms/step\n",
      "1/1 [==============================] - 0s 22ms/step\n",
      "1/1 [==============================] - 0s 23ms/step\n",
      "1/1 [==============================] - 0s 22ms/step\n",
      "1/1 [==============================] - 0s 22ms/step\n",
      "1/1 [==============================] - 0s 21ms/step\n",
      "1/1 [==============================] - 0s 18ms/step\n",
      "1/1 [==============================] - 0s 22ms/step\n",
      "1/1 [==============================] - 0s 23ms/step\n",
      "1/1 [==============================] - 0s 23ms/step\n",
      "1/1 [==============================] - 0s 22ms/step\n",
      "1/1 [==============================] - 0s 24ms/step\n",
      "1/1 [==============================] - 0s 23ms/step\n",
      "1/1 [==============================] - 0s 22ms/step\n",
      "1/1 [==============================] - 0s 23ms/step\n",
      "1/1 [==============================] - 0s 24ms/step\n",
      "1/1 [==============================] - 0s 25ms/step\n",
      "1/1 [==============================] - 0s 21ms/step\n",
      "1/1 [==============================] - 0s 24ms/step\n",
      "1/1 [==============================] - 0s 26ms/step\n",
      "1/1 [==============================] - 0s 24ms/step\n",
      "1/1 [==============================] - 0s 25ms/step\n",
      "1/1 [==============================] - 0s 23ms/step\n",
      "1/1 [==============================] - 0s 22ms/step\n",
      "1/1 [==============================] - 0s 22ms/step\n",
      "1/1 [==============================] - 0s 23ms/step\n",
      "1/1 [==============================] - 0s 20ms/step\n",
      "1/1 [==============================] - 0s 23ms/step\n",
      "1/1 [==============================] - 0s 22ms/step\n",
      "1/1 [==============================] - 0s 22ms/step\n",
      "1/1 [==============================] - 0s 22ms/step\n",
      "1/1 [==============================] - 0s 22ms/step\n",
      "1/1 [==============================] - 0s 21ms/step\n",
      "1/1 [==============================] - 0s 22ms/step\n",
      "1/1 [==============================] - 0s 22ms/step\n",
      "1/1 [==============================] - 0s 26ms/step\n",
      "1/1 [==============================] - 0s 25ms/step\n",
      "1/1 [==============================] - 0s 24ms/step\n",
      "1/1 [==============================] - 0s 23ms/step\n",
      "1/1 [==============================] - 0s 24ms/step\n",
      "1/1 [==============================] - 0s 23ms/step\n",
      "1/1 [==============================] - 0s 23ms/step\n",
      "1/1 [==============================] - 0s 23ms/step\n",
      "1/1 [==============================] - 0s 25ms/step\n",
      "1/1 [==============================] - 0s 21ms/step\n",
      "1/1 [==============================] - 0s 22ms/step\n",
      "1/1 [==============================] - 0s 22ms/step\n",
      "1/1 [==============================] - 0s 22ms/step\n",
      "1/1 [==============================] - 0s 23ms/step\n",
      "1/1 [==============================] - 0s 22ms/step\n",
      "1/1 [==============================] - 0s 22ms/step\n",
      "1/1 [==============================] - 0s 20ms/step\n",
      "1/1 [==============================] - 0s 23ms/step\n",
      "1/1 [==============================] - 0s 22ms/step\n",
      "1/1 [==============================] - 0s 23ms/step\n",
      "1/1 [==============================] - 0s 23ms/step\n",
      "1/1 [==============================] - 0s 23ms/step\n",
      "1/1 [==============================] - 0s 22ms/step\n",
      "1/1 [==============================] - 0s 21ms/step\n"
     ]
    }
   ],
   "source": [
    "f=Inference(sentences,source_tokenizer,encoder,target_tokenizer, decoder,max_encoding_len,max_decoding_len)"
   ]
  },
  {
   "cell_type": "code",
   "execution_count": 33,
   "id": "c836c9a3",
   "metadata": {
    "execution": {
     "iopub.execute_input": "2023-04-15T18:03:47.767177Z",
     "iopub.status.busy": "2023-04-15T18:03:47.766777Z",
     "iopub.status.idle": "2023-04-15T18:03:47.778944Z",
     "shell.execute_reply": "2023-04-15T18:03:47.777676Z"
    },
    "papermill": {
     "duration": 1.362974,
     "end_time": "2023-04-15T18:03:47.781202",
     "exception": false,
     "start_time": "2023-04-15T18:03:46.418228",
     "status": "completed"
    },
    "tags": []
   },
   "outputs": [
    {
     "data": {
      "text/html": [
       "<div>\n",
       "<style scoped>\n",
       "    .dataframe tbody tr th:only-of-type {\n",
       "        vertical-align: middle;\n",
       "    }\n",
       "\n",
       "    .dataframe tbody tr th {\n",
       "        vertical-align: top;\n",
       "    }\n",
       "\n",
       "    .dataframe thead th {\n",
       "        text-align: right;\n",
       "    }\n",
       "</style>\n",
       "<table border=\"1\" class=\"dataframe\">\n",
       "  <thead>\n",
       "    <tr style=\"text-align: right;\">\n",
       "      <th></th>\n",
       "      <th>Tokenized Original</th>\n",
       "      <th>Reference</th>\n",
       "      <th>Translation</th>\n",
       "    </tr>\n",
       "  </thead>\n",
       "  <tbody>\n",
       "    <tr>\n",
       "      <th>0</th>\n",
       "      <td>of whether we could evolve or develop a sixth ...</td>\n",
       "      <td>कि क्या हम एक छठी इन्द्री का विकास या आवर्ण कर...</td>\n",
       "      <td>कि हम एक छठी इन्द्री का विकास या आवर्ण कर सकते...</td>\n",
       "    </tr>\n",
       "    <tr>\n",
       "      <th>1</th>\n",
       "      <td>“what ma”</td>\n",
       "      <td>“क्या, माँ?”</td>\n",
       "      <td>“क्या माँ”</td>\n",
       "    </tr>\n",
       "    <tr>\n",
       "      <th>2</th>\n",
       "      <td>how do you make all this work financially</td>\n",
       "      <td>इस सब को आर्थिक रूप से संभव कैसे बनाया जाय,</td>\n",
       "      <td>कैसे आप सभी इस काम के विषय पर कैसे चलाते हैं</td>\n",
       "    </tr>\n",
       "    <tr>\n",
       "      <th>3</th>\n",
       "      <td>you put it on a cooking fire</td>\n",
       "      <td>तुम इसे खाना पकाने की आग पर डाल सकते है.</td>\n",
       "      <td>आप इसे खाना लीजिये ज़मीन में जमा करते हैं।</td>\n",
       "    </tr>\n",
       "    <tr>\n",
       "      <th>4</th>\n",
       "      <td>when a group from afghanistan</td>\n",
       "      <td>जब अफगानिस्तान से एक दल</td>\n",
       "      <td>जब अफगानिस्तान में एक दल है</td>\n",
       "    </tr>\n",
       "    <tr>\n",
       "      <th>5</th>\n",
       "      <td>is our fear that were not worthy of connection</td>\n",
       "      <td>है हमारा ये डर कि हम संपर्क के काबिल नहीं हैं,</td>\n",
       "      <td>कि हमारा सबसे ज्यादा संवाद के तौर से नहीं</td>\n",
       "    </tr>\n",
       "    <tr>\n",
       "      <th>6</th>\n",
       "      <td>and that is that people want</td>\n",
       "      <td>और वह यह है कि लोग चाहते हैं</td>\n",
       "      <td>और यह है कि लोग चाहते हैं</td>\n",
       "    </tr>\n",
       "    <tr>\n",
       "      <th>7</th>\n",
       "      <td>fortunately there are many people like me who ...</td>\n",
       "      <td>भाग्यवश, मेरे जैसे बहुत से लोग हैं जो कि उपायो...</td>\n",
       "      <td>भाग्यवश मेरे जैसे बहुत से लोग हैं जो कि उपायों...</td>\n",
       "    </tr>\n",
       "    <tr>\n",
       "      <th>8</th>\n",
       "      <td>and theres another cognitive bias</td>\n",
       "      <td>और यहाँ पे एक और दिमागी पक्षपात है,</td>\n",
       "      <td>और वहाँ दिमागी पक्षपात है</td>\n",
       "    </tr>\n",
       "    <tr>\n",
       "      <th>9</th>\n",
       "      <td>get the same grades at school</td>\n",
       "      <td>वही नंबर लाते है, जो कि वो बच्चे</td>\n",
       "      <td>वही नंबर उन्होंने जाना शुरु किया</td>\n",
       "    </tr>\n",
       "  </tbody>\n",
       "</table>\n",
       "</div>"
      ],
      "text/plain": [
       "                                  Tokenized Original  \\\n",
       "0  of whether we could evolve or develop a sixth ...   \n",
       "1                                          “what ma”   \n",
       "2          how do you make all this work financially   \n",
       "3                       you put it on a cooking fire   \n",
       "4                      when a group from afghanistan   \n",
       "5     is our fear that were not worthy of connection   \n",
       "6                       and that is that people want   \n",
       "7  fortunately there are many people like me who ...   \n",
       "8                  and theres another cognitive bias   \n",
       "9                      get the same grades at school   \n",
       "\n",
       "                                           Reference  \\\n",
       "0  कि क्या हम एक छठी इन्द्री का विकास या आवर्ण कर...   \n",
       "1                                       “क्या, माँ?”   \n",
       "2        इस सब को आर्थिक रूप से संभव कैसे बनाया जाय,   \n",
       "3           तुम इसे खाना पकाने की आग पर डाल सकते है.   \n",
       "4                            जब अफगानिस्तान से एक दल   \n",
       "5     है हमारा ये डर कि हम संपर्क के काबिल नहीं हैं,   \n",
       "6                       और वह यह है कि लोग चाहते हैं   \n",
       "7  भाग्यवश, मेरे जैसे बहुत से लोग हैं जो कि उपायो...   \n",
       "8                और यहाँ पे एक और दिमागी पक्षपात है,   \n",
       "9                   वही नंबर लाते है, जो कि वो बच्चे   \n",
       "\n",
       "                                         Translation  \n",
       "0  कि हम एक छठी इन्द्री का विकास या आवर्ण कर सकते...  \n",
       "1                                         “क्या माँ”  \n",
       "2       कैसे आप सभी इस काम के विषय पर कैसे चलाते हैं  \n",
       "3         आप इसे खाना लीजिये ज़मीन में जमा करते हैं।  \n",
       "4                        जब अफगानिस्तान में एक दल है  \n",
       "5          कि हमारा सबसे ज्यादा संवाद के तौर से नहीं  \n",
       "6                          और यह है कि लोग चाहते हैं  \n",
       "7  भाग्यवश मेरे जैसे बहुत से लोग हैं जो कि उपायों...  \n",
       "8                          और वहाँ दिमागी पक्षपात है  \n",
       "9                   वही नंबर उन्होंने जाना शुरु किया  "
      ]
     },
     "execution_count": 33,
     "metadata": {},
     "output_type": "execute_result"
    }
   ],
   "source": [
    "pd.DataFrame(f)"
   ]
  },
  {
   "cell_type": "code",
   "execution_count": null,
   "id": "77f53a89",
   "metadata": {
    "papermill": {
     "duration": 1.403969,
     "end_time": "2023-04-15T18:03:50.670147",
     "exception": false,
     "start_time": "2023-04-15T18:03:49.266178",
     "status": "completed"
    },
    "tags": []
   },
   "outputs": [],
   "source": []
  },
  {
   "cell_type": "markdown",
   "id": "2199dc5a",
   "metadata": {
    "papermill": {
     "duration": 1.337223,
     "end_time": "2023-04-15T18:03:53.485272",
     "exception": false,
     "start_time": "2023-04-15T18:03:52.148049",
     "status": "completed"
    },
    "tags": []
   },
   "source": [
    "**Saving model**"
   ]
  },
  {
   "cell_type": "code",
   "execution_count": 34,
   "id": "a50e5c50",
   "metadata": {
    "execution": {
     "iopub.execute_input": "2023-04-15T18:03:56.281954Z",
     "iopub.status.busy": "2023-04-15T18:03:56.281587Z",
     "iopub.status.idle": "2023-04-15T18:03:56.286375Z",
     "shell.execute_reply": "2023-04-15T18:03:56.285326Z"
    },
    "papermill": {
     "duration": 1.409407,
     "end_time": "2023-04-15T18:03:56.288711",
     "exception": false,
     "start_time": "2023-04-15T18:03:54.879304",
     "status": "completed"
    },
    "tags": []
   },
   "outputs": [],
   "source": [
    "# encoder.save_weights('attention_encoder_weights_with_dropout_ckpt')\n",
    "# decoder.save_weights('attention_decoder_weights_with_dropout_ckpt')"
   ]
  },
  {
   "cell_type": "code",
   "execution_count": 35,
   "id": "bcc3ff44",
   "metadata": {
    "execution": {
     "iopub.execute_input": "2023-04-15T18:03:59.220139Z",
     "iopub.status.busy": "2023-04-15T18:03:59.219217Z",
     "iopub.status.idle": "2023-04-15T18:03:59.349810Z",
     "shell.execute_reply": "2023-04-15T18:03:59.348794Z"
    },
    "papermill": {
     "duration": 1.570016,
     "end_time": "2023-04-15T18:03:59.352290",
     "exception": false,
     "start_time": "2023-04-15T18:03:57.782274",
     "status": "completed"
    },
    "tags": []
   },
   "outputs": [],
   "source": [
    "encoder.save_weights('attention_encoder_weights_with_dropout_ckpt')\n",
    "decoder.save_weights('attention_decoder_weights_with_dropout_ckpt')"
   ]
  },
  {
   "cell_type": "code",
   "execution_count": null,
   "id": "1aaf6aaf",
   "metadata": {
    "papermill": {
     "duration": 1.343222,
     "end_time": "2023-04-15T18:04:02.162634",
     "exception": false,
     "start_time": "2023-04-15T18:04:00.819412",
     "status": "completed"
    },
    "tags": []
   },
   "outputs": [],
   "source": []
  }
 ],
 "metadata": {
  "kernelspec": {
   "display_name": "Python 3",
   "language": "python",
   "name": "python3"
  },
  "language_info": {
   "codemirror_mode": {
    "name": "ipython",
    "version": 3
   },
   "file_extension": ".py",
   "mimetype": "text/x-python",
   "name": "python",
   "nbconvert_exporter": "python",
   "pygments_lexer": "ipython3",
   "version": "3.7.12"
  },
  "papermill": {
   "default_parameters": {},
   "duration": 1732.054912,
   "end_time": "2023-04-15T18:04:06.709253",
   "environment_variables": {},
   "exception": null,
   "input_path": "__notebook__.ipynb",
   "output_path": "__notebook__.ipynb",
   "parameters": {},
   "start_time": "2023-04-15T17:35:14.654341",
   "version": "2.4.0"
  }
 },
 "nbformat": 4,
 "nbformat_minor": 5
}
